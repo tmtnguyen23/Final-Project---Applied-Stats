{
 "cells": [
  {
   "cell_type": "markdown",
   "metadata": {
    "collapsed": false,
    "jupyter": {
     "outputs_hidden": false
    }
   },
   "source": [
    "First, I read the data from excel file into a dataframe called df_raw. Skip the label row."
   ]
  },
  {
   "cell_type": "code",
   "execution_count": 1,
   "metadata": {
    "collapsed": false,
    "jupyter": {
     "outputs_hidden": false
    }
   },
   "outputs": [
    {
     "name": "stdout",
     "output_type": "stream",
     "text": [
      "                     Movie Title  Opening Gross Sales ($ millions)  \\\n",
      "0   Rogue One: A Star Wars Story                            155.08   \n",
      "1                   Finding Dory                            135.06   \n",
      "2     Captain America: Civil War                            179.14   \n",
      "3        The Secret Life of Pets                            104.35   \n",
      "4         The Jungle Book (2016)                            103.26   \n",
      "..                           ...                               ...   \n",
      "95                    The Forest                             12.74   \n",
      "96                Ben-Hur (2016)                             11.20   \n",
      "97                     The Witch                              8.80   \n",
      "98          Bridget Jones's Baby                              8.57   \n",
      "99         Kevin Hart: What Now?                             11.77   \n",
      "\n",
      "    Total Gross Sales ($ millions)  Number of Theaters  Weeks in Release  \n",
      "0                           532.18                4157                20  \n",
      "1                           486.30                4305                25  \n",
      "2                           408.08                4226                20  \n",
      "3                           368.38                4381                25  \n",
      "4                           364.00                4144                24  \n",
      "..                             ...                 ...               ...  \n",
      "95                           26.59                2509                10  \n",
      "96                           26.41                3084                 7  \n",
      "97                           25.14                2204                14  \n",
      "98                           24.25                2930                13  \n",
      "99                           23.59                2567                 9  \n",
      "\n",
      "[100 rows x 5 columns]\n"
     ]
    }
   ],
   "source": [
    "import pandas as pd\n",
    "\n",
    "headers = [\"Movie Title\", \"Opening Gross Sales ($ millions)\", \"Total Gross Sales ($ millions)\", \"Number of Theaters\", \"Weeks in Release\"]\n",
    "\n",
    "df_raw = pd.read_excel(\"Movies2016.xlsx\", header=None, names=headers, skiprows=1)\n",
    "\n",
    "print(df_raw)"
   ]
  },
  {
   "cell_type": "markdown",
   "metadata": {
    "collapsed": false,
    "jupyter": {
     "outputs_hidden": false
    }
   },
   "source": [
    "Next, separate values of rows and columns into bins. Use pd.crosstab to create the crosstabulation, set margins=True to calculate the total. All NaN entries will be set to 0 with fillna(0)."
   ]
  },
  {
   "cell_type": "code",
   "execution_count": 3,
   "metadata": {
    "collapsed": false,
    "jupyter": {
     "outputs_hidden": false
    }
   },
   "outputs": [
    {
     "data": {
      "text/html": [
       "<div>\n",
       "<style scoped>\n",
       "    .dataframe tbody tr th:only-of-type {\n",
       "        vertical-align: middle;\n",
       "    }\n",
       "\n",
       "    .dataframe tbody tr th {\n",
       "        vertical-align: top;\n",
       "    }\n",
       "\n",
       "    .dataframe thead th {\n",
       "        text-align: right;\n",
       "    }\n",
       "</style>\n",
       "<table border=\"1\" class=\"dataframe\">\n",
       "  <thead>\n",
       "    <tr style=\"text-align: right;\">\n",
       "      <th>Number of Theaters</th>\n",
       "      <th>(1000, 2000]</th>\n",
       "      <th>(2000, 3000]</th>\n",
       "      <th>(3000, 4000]</th>\n",
       "      <th>(4000, 5000]</th>\n",
       "      <th>Total</th>\n",
       "    </tr>\n",
       "    <tr>\n",
       "      <th>Opening Gross Sales ($ millions)</th>\n",
       "      <th></th>\n",
       "      <th></th>\n",
       "      <th></th>\n",
       "      <th></th>\n",
       "      <th></th>\n",
       "    </tr>\n",
       "  </thead>\n",
       "  <tbody>\n",
       "    <tr>\n",
       "      <th>(0, 10]</th>\n",
       "      <td>5</td>\n",
       "      <td>4</td>\n",
       "      <td>5</td>\n",
       "      <td>0</td>\n",
       "      <td>14</td>\n",
       "    </tr>\n",
       "    <tr>\n",
       "      <th>(10, 20]</th>\n",
       "      <td>0</td>\n",
       "      <td>15</td>\n",
       "      <td>19</td>\n",
       "      <td>0</td>\n",
       "      <td>34</td>\n",
       "    </tr>\n",
       "    <tr>\n",
       "      <th>(20, 30]</th>\n",
       "      <td>0</td>\n",
       "      <td>3</td>\n",
       "      <td>19</td>\n",
       "      <td>0</td>\n",
       "      <td>22</td>\n",
       "    </tr>\n",
       "    <tr>\n",
       "      <th>(30, 40]</th>\n",
       "      <td>0</td>\n",
       "      <td>1</td>\n",
       "      <td>7</td>\n",
       "      <td>2</td>\n",
       "      <td>10</td>\n",
       "    </tr>\n",
       "    <tr>\n",
       "      <th>(40, 50]</th>\n",
       "      <td>0</td>\n",
       "      <td>0</td>\n",
       "      <td>3</td>\n",
       "      <td>2</td>\n",
       "      <td>5</td>\n",
       "    </tr>\n",
       "    <tr>\n",
       "      <th>(50, 60]</th>\n",
       "      <td>0</td>\n",
       "      <td>0</td>\n",
       "      <td>2</td>\n",
       "      <td>1</td>\n",
       "      <td>3</td>\n",
       "    </tr>\n",
       "    <tr>\n",
       "      <th>(60, 70]</th>\n",
       "      <td>0</td>\n",
       "      <td>0</td>\n",
       "      <td>0</td>\n",
       "      <td>1</td>\n",
       "      <td>1</td>\n",
       "    </tr>\n",
       "    <tr>\n",
       "      <th>(70, 80]</th>\n",
       "      <td>0</td>\n",
       "      <td>0</td>\n",
       "      <td>1</td>\n",
       "      <td>1</td>\n",
       "      <td>2</td>\n",
       "    </tr>\n",
       "    <tr>\n",
       "      <th>(80, 90]</th>\n",
       "      <td>0</td>\n",
       "      <td>0</td>\n",
       "      <td>1</td>\n",
       "      <td>0</td>\n",
       "      <td>1</td>\n",
       "    </tr>\n",
       "    <tr>\n",
       "      <th>(100, 110]</th>\n",
       "      <td>0</td>\n",
       "      <td>0</td>\n",
       "      <td>0</td>\n",
       "      <td>2</td>\n",
       "      <td>2</td>\n",
       "    </tr>\n",
       "    <tr>\n",
       "      <th>(130, 140]</th>\n",
       "      <td>0</td>\n",
       "      <td>0</td>\n",
       "      <td>1</td>\n",
       "      <td>2</td>\n",
       "      <td>3</td>\n",
       "    </tr>\n",
       "    <tr>\n",
       "      <th>(150, 160]</th>\n",
       "      <td>0</td>\n",
       "      <td>0</td>\n",
       "      <td>0</td>\n",
       "      <td>1</td>\n",
       "      <td>1</td>\n",
       "    </tr>\n",
       "    <tr>\n",
       "      <th>(160, 170]</th>\n",
       "      <td>0</td>\n",
       "      <td>0</td>\n",
       "      <td>0</td>\n",
       "      <td>1</td>\n",
       "      <td>1</td>\n",
       "    </tr>\n",
       "    <tr>\n",
       "      <th>(170, 180]</th>\n",
       "      <td>0</td>\n",
       "      <td>0</td>\n",
       "      <td>0</td>\n",
       "      <td>1</td>\n",
       "      <td>1</td>\n",
       "    </tr>\n",
       "    <tr>\n",
       "      <th>Total</th>\n",
       "      <td>5</td>\n",
       "      <td>23</td>\n",
       "      <td>58</td>\n",
       "      <td>14</td>\n",
       "      <td>100</td>\n",
       "    </tr>\n",
       "  </tbody>\n",
       "</table>\n",
       "</div>"
      ],
      "text/plain": [
       "Number of Theaters                (1000, 2000]  (2000, 3000]  (3000, 4000]  \\\n",
       "Opening Gross Sales ($ millions)                                             \n",
       "(0, 10]                                      5             4             5   \n",
       "(10, 20]                                     0            15            19   \n",
       "(20, 30]                                     0             3            19   \n",
       "(30, 40]                                     0             1             7   \n",
       "(40, 50]                                     0             0             3   \n",
       "(50, 60]                                     0             0             2   \n",
       "(60, 70]                                     0             0             0   \n",
       "(70, 80]                                     0             0             1   \n",
       "(80, 90]                                     0             0             1   \n",
       "(100, 110]                                   0             0             0   \n",
       "(130, 140]                                   0             0             1   \n",
       "(150, 160]                                   0             0             0   \n",
       "(160, 170]                                   0             0             0   \n",
       "(170, 180]                                   0             0             0   \n",
       "Total                                        5            23            58   \n",
       "\n",
       "Number of Theaters                (4000, 5000]  Total  \n",
       "Opening Gross Sales ($ millions)                       \n",
       "(0, 10]                                      0     14  \n",
       "(10, 20]                                     0     34  \n",
       "(20, 30]                                     0     22  \n",
       "(30, 40]                                     2     10  \n",
       "(40, 50]                                     2      5  \n",
       "(50, 60]                                     1      3  \n",
       "(60, 70]                                     1      1  \n",
       "(70, 80]                                     1      2  \n",
       "(80, 90]                                     0      1  \n",
       "(100, 110]                                   2      2  \n",
       "(130, 140]                                   2      3  \n",
       "(150, 160]                                   1      1  \n",
       "(160, 170]                                   1      1  \n",
       "(170, 180]                                   1      1  \n",
       "Total                                       14    100  "
      ]
     },
     "execution_count": 3,
     "metadata": {},
     "output_type": "execute_result"
    }
   ],
   "source": [
    "list_row = []\n",
    "for i in range(0,181):\n",
    "    if i % 10 == 0:\n",
    "        list_row.append(i)\n",
    "\n",
    "df_raw['bin_columns'] = pd.cut(df_raw['Number of Theaters'], [0,1000,2000,3000,4000,5000])\n",
    "df_raw['bin_rows'] = pd.cut(df_raw['Opening Gross Sales ($ millions)'], list_row)\n",
    "\n",
    "pd.crosstab(index=df_raw['bin_rows'], columns=df_raw['bin_columns'], rownames=[\"Opening Gross Sales ($ millions)\"], colnames=[\"Number of Theaters\"], margins=True, margins_name=\"Total\").fillna(0)\n"
   ]
  },
  {
   "cell_type": "markdown",
   "metadata": {
    "collapsed": false,
    "jupyter": {
     "outputs_hidden": false
    }
   },
   "source": [
    "Now, construct the scatter plot with the previously built df_raw. There are two datapoints to annotate: (1) the highest Opening Gross Sales (OGS) of all data and (2) the highest OGS of all movies displayed in <4000 theaters."
   ]
  },
  {
   "cell_type": "code",
   "execution_count": 2,
   "metadata": {
    "collapsed": false,
    "jupyter": {
     "outputs_hidden": false
    }
   },
   "outputs": [
    {
     "data": {
      "image/png": "[encoded data removed]",
      "text/plain": [
       "<Figure size 640x480 with 1 Axes>"
      ]
     },
     "metadata": {},
     "output_type": "display_data"
    }
   ],
   "source": [
    "scatter_plot1 = df_raw.plot.scatter(x=\"Number of Theaters\", y=\"Opening Gross Sales ($ millions)\")\n",
    "\n",
    "max_os_4000 = 0\n",
    "for idx, row in df_raw.iterrows():\n",
    "    if row['Number of Theaters'] < 4000:\n",
    "        if row['Opening Gross Sales ($ millions)'] > max_os_4000:\n",
    "            max_os_4000 = row['Opening Gross Sales ($ millions)']\n",
    "\n",
    "for idx, row in df_raw.iterrows():\n",
    "    if row['Opening Gross Sales ($ millions)'] == max(df_raw['Opening Gross Sales ($ millions)']):\n",
    "        scatter_plot1.annotate(row['Opening Gross Sales ($ millions)'], (row['Number of Theaters'], row['Opening Gross Sales ($ millions)']))\n",
    "    if row['Opening Gross Sales ($ millions)'] == max_os_4000:\n",
    "        scatter_plot1.annotate(row['Opening Gross Sales ($ millions)'], (row['Number of Theaters'], row['Opening Gross Sales ($ millions)']))"
   ]
  },
  {
   "cell_type": "markdown",
   "metadata": {
    "collapsed": false,
    "jupyter": {
     "outputs_hidden": false
    }
   },
   "source": [
    "For the second part, create a new cross tabulation for the Total Cross Sales ($ millions) vs. the number of weeks the movie was in release. The same strategy as above is done."
   ]
  },
  {
   "cell_type": "code",
   "execution_count": 5,
   "metadata": {
    "collapsed": false,
    "jupyter": {
     "outputs_hidden": false
    }
   },
   "outputs": [
    {
     "data": {
      "text/html": [
       "<div>\n",
       "<style scoped>\n",
       "    .dataframe tbody tr th:only-of-type {\n",
       "        vertical-align: middle;\n",
       "    }\n",
       "\n",
       "    .dataframe tbody tr th {\n",
       "        vertical-align: top;\n",
       "    }\n",
       "\n",
       "    .dataframe thead th {\n",
       "        text-align: right;\n",
       "    }\n",
       "</style>\n",
       "<table border=\"1\" class=\"dataframe\">\n",
       "  <thead>\n",
       "    <tr style=\"text-align: right;\">\n",
       "      <th>Number of Weeks</th>\n",
       "      <th>(6, 16]</th>\n",
       "      <th>(16, 26]</th>\n",
       "      <th>(26, 36]</th>\n",
       "      <th>(36, 46]</th>\n",
       "      <th>Total</th>\n",
       "    </tr>\n",
       "    <tr>\n",
       "      <th>Total Gross Sales ($ millions)</th>\n",
       "      <th></th>\n",
       "      <th></th>\n",
       "      <th></th>\n",
       "      <th></th>\n",
       "      <th></th>\n",
       "    </tr>\n",
       "  </thead>\n",
       "  <tbody>\n",
       "    <tr>\n",
       "      <th>(20, 120]</th>\n",
       "      <td>60</td>\n",
       "      <td>15</td>\n",
       "      <td>1</td>\n",
       "      <td>0</td>\n",
       "      <td>76</td>\n",
       "    </tr>\n",
       "    <tr>\n",
       "      <th>(120, 220]</th>\n",
       "      <td>4</td>\n",
       "      <td>6</td>\n",
       "      <td>0</td>\n",
       "      <td>1</td>\n",
       "      <td>11</td>\n",
       "    </tr>\n",
       "    <tr>\n",
       "      <th>(220, 320]</th>\n",
       "      <td>0</td>\n",
       "      <td>4</td>\n",
       "      <td>0</td>\n",
       "      <td>0</td>\n",
       "      <td>4</td>\n",
       "    </tr>\n",
       "    <tr>\n",
       "      <th>(320, 420]</th>\n",
       "      <td>2</td>\n",
       "      <td>5</td>\n",
       "      <td>0</td>\n",
       "      <td>0</td>\n",
       "      <td>7</td>\n",
       "    </tr>\n",
       "    <tr>\n",
       "      <th>(420, 520]</th>\n",
       "      <td>0</td>\n",
       "      <td>1</td>\n",
       "      <td>0</td>\n",
       "      <td>0</td>\n",
       "      <td>1</td>\n",
       "    </tr>\n",
       "    <tr>\n",
       "      <th>(520, 620]</th>\n",
       "      <td>0</td>\n",
       "      <td>1</td>\n",
       "      <td>0</td>\n",
       "      <td>0</td>\n",
       "      <td>1</td>\n",
       "    </tr>\n",
       "    <tr>\n",
       "      <th>Total</th>\n",
       "      <td>66</td>\n",
       "      <td>32</td>\n",
       "      <td>1</td>\n",
       "      <td>1</td>\n",
       "      <td>100</td>\n",
       "    </tr>\n",
       "  </tbody>\n",
       "</table>\n",
       "</div>"
      ],
      "text/plain": [
       "Number of Weeks                 (6, 16]  (16, 26]  (26, 36]  (36, 46]  Total\n",
       "Total Gross Sales ($ millions)                                              \n",
       "(20, 120]                            60        15         1         0     76\n",
       "(120, 220]                            4         6         0         1     11\n",
       "(220, 320]                            0         4         0         0      4\n",
       "(320, 420]                            2         5         0         0      7\n",
       "(420, 520]                            0         1         0         0      1\n",
       "(520, 620]                            0         1         0         0      1\n",
       "Total                                66        32         1         1    100"
      ]
     },
     "execution_count": 5,
     "metadata": {},
     "output_type": "execute_result"
    }
   ],
   "source": [
    "list_column2 = []\n",
    "for i in range(6,47,10):\n",
    "    list_column2.append(i)\n",
    "\n",
    "list_row2 = []\n",
    "for i in range (20,621, 100):\n",
    "    list_row2.append(i)\n",
    "\n",
    "df_raw['bin_columns2'] = pd.cut(df_raw['Weeks in Release'], list_column2)\n",
    "df_raw['bin_rows2'] = pd.cut(df_raw['Total Gross Sales ($ millions)'], list_row2)\n",
    "\n",
    "pd.crosstab(index=df_raw['bin_rows2'], columns=df_raw['bin_columns2'], rownames=[\"Total Gross Sales ($ millions)\"], colnames=[\"Number of Weeks\"], margins=True, margins_name=\"Total\").fillna(0)\n"
   ]
  },
  {
   "cell_type": "markdown",
   "metadata": {
    "collapsed": false,
    "jupyter": {
     "outputs_hidden": false
    }
   },
   "source": [
    "Then, draw a new scatter plot scatter_plot2 and display the two datapoints:\n",
    "- The datapoint that had the highest Total Gross Sales out of all the data.\n",
    "- The datapoint that had played for the longest in release out of all the data."
   ]
  },
  {
   "cell_type": "code",
   "execution_count": 6,
   "metadata": {
    "collapsed": false,
    "jupyter": {
     "outputs_hidden": false
    }
   },
   "outputs": [
    {
     "data": {
      "image/png": "[encoded data removed]",
      "text/plain": [
       "<Figure size 640x480 with 1 Axes>"
      ]
     },
     "metadata": {},
     "output_type": "display_data"
    }
   ],
   "source": [
    "scatter_plot2 = df_raw.plot.scatter(x=\"Weeks in Release\", y=\"Total Gross Sales ($ millions)\")\n",
    "\n",
    "for idx, row in df_raw.iterrows():\n",
    "    if row['Total Gross Sales ($ millions)'] == max(df_raw['Total Gross Sales ($ millions)']):\n",
    "        scatter_plot2.annotate(row['Total Gross Sales ($ millions)'], (row['Weeks in Release'], row['Total Gross Sales ($ millions)']))\n",
    "    if row['Weeks in Release'] == max(df_raw['Weeks in Release']):\n",
    "        scatter_plot2.annotate(row['Total Gross Sales ($ millions)'], (row['Weeks in Release'], row['Total Gross Sales ($ millions)']))"
   ]
  },
  {
   "cell_type": "markdown",
   "metadata": {
    "collapsed": false,
    "jupyter": {
     "outputs_hidden": false
    }
   },
   "source": [
    "For the third part, create a new dataframe new_df from the existing dataframe df_raw by selecting all records with Opening Gross Sales > $50 million. The new dataframe is shown as below."
   ]
  },
  {
   "cell_type": "code",
   "execution_count": 7,
   "metadata": {
    "collapsed": false,
    "jupyter": {
     "outputs_hidden": false
    }
   },
   "outputs": [
    {
     "name": "stdout",
     "output_type": "stream",
     "text": [
      "                                Movie Title  Opening Gross Sales ($ millions)  \\\n",
      "0              Rogue One: A Star Wars Story                            155.08   \n",
      "1                              Finding Dory                            135.06   \n",
      "2                Captain America: Civil War                            179.14   \n",
      "3                   The Secret Life of Pets                            104.35   \n",
      "4                    The Jungle Book (2016)                            103.26   \n",
      "5                                  Deadpool                            132.43   \n",
      "6                                  Zootopia                             75.06   \n",
      "7        Batman v Superman: Dawn of Justice                            166.01   \n",
      "8                             Suicide Squad                            133.68   \n",
      "10                                    Moana                             56.63   \n",
      "11  Fantastic Beasts and Where To Find Them                             74.40   \n",
      "12                           Doctor Strange                             85.06   \n",
      "14                             Jason Bourne                             59.22   \n",
      "15                         Star Trek Beyond                             59.25   \n",
      "16                        X-Men: Apocalypse                             65.77   \n",
      "\n",
      "    Total Gross Sales ($ millions)  Number of Theaters  Weeks in Release  \n",
      "0                           532.18                4157                20  \n",
      "1                           486.30                4305                25  \n",
      "2                           408.08                4226                20  \n",
      "3                           368.38                4381                25  \n",
      "4                           364.00                4144                24  \n",
      "5                           363.07                3856                18  \n",
      "6                           341.27                3959                22  \n",
      "7                           330.36                4256                12  \n",
      "8                           325.10                4255                14  \n",
      "10                          248.76                3875                22  \n",
      "11                          234.04                4144                19  \n",
      "12                          232.64                3882                19  \n",
      "14                          162.43                4039                21  \n",
      "15                          158.85                3928                13  \n",
      "16                          155.44                4153                 9  \n"
     ]
    }
   ],
   "source": [
    "new_df = df_raw.loc[df_raw[\"Opening Gross Sales ($ millions)\"] > 50, [\"Movie Title\", \"Opening Gross Sales ($ millions)\", \"Total Gross Sales ($ millions)\", \"Number of Theaters\", \"Weeks in Release\"]]\n",
    "\n",
    "print(new_df)"
   ]
  },
  {
   "cell_type": "markdown",
   "metadata": {
    "collapsed": false,
    "jupyter": {
     "outputs_hidden": false
    }
   },
   "source": [
    "To classify movies into superhero or not_superhero category, assign superhero movie key with value 1 and non-superhero movie key with value 2."
   ]
  },
  {
   "cell_type": "code",
   "execution_count": 8,
   "metadata": {
    "collapsed": false,
    "jupyter": {
     "outputs_hidden": false
    }
   },
   "outputs": [],
   "source": [
    "superhero_dict = {\"superhero\": ['X-Men: Apocalypse', 'Doctor Strange', 'Deadpool', \"Suicide Squad\", \"Batman v Superman: Dawn of Justice\", \"Captain America: Civil War\"]}\n",
    "\n",
    "classified_dict = {}\n",
    "\n",
    "for movie in new_df[\"Movie Title\"]:\n",
    "    if movie in superhero_dict[\"superhero\"]:\n",
    "        classified_dict[movie] = 1\n",
    "    else:\n",
    "        classified_dict[movie] = 2"
   ]
  },
  {
   "cell_type": "markdown",
   "metadata": {
    "collapsed": false,
    "jupyter": {
     "outputs_hidden": false
    }
   },
   "source": [
    "I later use binning to divide the two groups and create a cross tabulation with those bins."
   ]
  },
  {
   "cell_type": "code",
   "execution_count": 9,
   "metadata": {
    "collapsed": false,
    "jupyter": {
     "outputs_hidden": false
    }
   },
   "outputs": [
    {
     "data": {
      "text/html": [
       "<div>\n",
       "<style scoped>\n",
       "    .dataframe tbody tr th:only-of-type {\n",
       "        vertical-align: middle;\n",
       "    }\n",
       "\n",
       "    .dataframe tbody tr th {\n",
       "        vertical-align: top;\n",
       "    }\n",
       "\n",
       "    .dataframe thead th {\n",
       "        text-align: right;\n",
       "    }\n",
       "</style>\n",
       "<table border=\"1\" class=\"dataframe\">\n",
       "  <thead>\n",
       "    <tr style=\"text-align: right;\">\n",
       "      <th>Opening Gross Sales ($ millions)</th>\n",
       "      <th>Under $100M for Opening Gross Sales</th>\n",
       "      <th>Over $100M for Opening Gross Sales</th>\n",
       "      <th>Total</th>\n",
       "    </tr>\n",
       "    <tr>\n",
       "      <th>Superhero?</th>\n",
       "      <th></th>\n",
       "      <th></th>\n",
       "      <th></th>\n",
       "    </tr>\n",
       "  </thead>\n",
       "  <tbody>\n",
       "    <tr>\n",
       "      <th>superhero</th>\n",
       "      <td>2</td>\n",
       "      <td>4</td>\n",
       "      <td>6</td>\n",
       "    </tr>\n",
       "    <tr>\n",
       "      <th>not superhero</th>\n",
       "      <td>5</td>\n",
       "      <td>4</td>\n",
       "      <td>9</td>\n",
       "    </tr>\n",
       "    <tr>\n",
       "      <th>Total</th>\n",
       "      <td>7</td>\n",
       "      <td>8</td>\n",
       "      <td>15</td>\n",
       "    </tr>\n",
       "  </tbody>\n",
       "</table>\n",
       "</div>"
      ],
      "text/plain": [
       "Opening Gross Sales ($ millions)  Under $100M for Opening Gross Sales  \\\n",
       "Superhero?                                                              \n",
       "superhero                                                           2   \n",
       "not superhero                                                       5   \n",
       "Total                                                               7   \n",
       "\n",
       "Opening Gross Sales ($ millions)  Over $100M for Opening Gross Sales  Total  \n",
       "Superhero?                                                                   \n",
       "superhero                                                          4      6  \n",
       "not superhero                                                      4      9  \n",
       "Total                                                              8     15  "
      ]
     },
     "execution_count": 9,
     "metadata": {},
     "output_type": "execute_result"
    }
   ],
   "source": [
    "bin_column_labels = [\"Under $100M for Opening Gross Sales\", \"Over $100M for Opening Gross Sales\"]\n",
    "new_df['bin_column'] = pd.cut(new_df['Opening Gross Sales ($ millions)'], [50,100,200], labels=bin_column_labels)\n",
    "\n",
    "bin_row_labels = [\"superhero\", \"not superhero\"]\n",
    "new_df['superhero'] = classified_dict.values()\n",
    "new_df['bin_row'] = pd.cut(new_df['superhero'],[0,1,2], labels=bin_row_labels)\n",
    "\n",
    "pd.crosstab(index=new_df['bin_row'], columns=new_df['bin_column'], rownames= [\"Superhero?\"], colnames=[\"Opening Gross Sales ($ millions)\"], margins=True, margins_name=\"Total\")"
   ]
  },
  {
   "cell_type": "code",
   "execution_count": null,
   "metadata": {
    "collapsed": false,
    "jupyter": {
     "outputs_hidden": false
    }
   },
   "outputs": [],
   "source": []
  }
 ],
 "metadata": {
  "kernelspec": {
   "display_name": "Python 3 (ipykernel)",
   "language": "python",
   "name": "python3"
  },
  "language_info": {
   "codemirror_mode": {
    "name": "ipython",
    "version": 3
   },
   "file_extension": ".py",
   "mimetype": "text/x-python",
   "name": "python",
   "nbconvert_exporter": "python",
   "pygments_lexer": "ipython3",
   "version": "3.11.1"
  }
 },
 "nbformat": 4,
 "nbformat_minor": 4
}
