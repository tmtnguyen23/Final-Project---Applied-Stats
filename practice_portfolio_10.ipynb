{
 "cells": [
  {
   "cell_type": "code",
   "execution_count": 3,
   "metadata": {
    "collapsed": true,
    "jupyter": {
     "outputs_hidden": true
    }
   },
   "outputs": [
    {
     "name": "stdout",
     "output_type": "stream",
     "text": [
      "                  submitted time_submitted  reaction_time1(ms)  \\\n",
      "0   2023-11-08 03:54:13 UTC          After                 246   \n",
      "1   2023-11-07 22:20:50 UTC          After                 355   \n",
      "2   2023-11-07 22:20:52 UTC          After                 254   \n",
      "3   2023-11-07 22:18:13 UTC          After                 253   \n",
      "4   2023-11-07 22:16:20 UTC          After                 307   \n",
      "5   2023-11-08 00:21:47 UTC          After                 217   \n",
      "6   2023-11-07 22:16:41 UTC          After                 274   \n",
      "7   2023-11-07 22:16:05 UTC          After                  74   \n",
      "8   2023-11-07 22:17:40 UTC          After                 246   \n",
      "9   2023-11-07 22:17:22 UTC          After                 349   \n",
      "10  2023-11-07 22:17:05 UTC          After                 236   \n",
      "11  2023-11-07 22:17:37 UTC          After                 285   \n",
      "12  2023-11-07 22:19:17 UTC          After                 292   \n",
      "13  2023-11-07 22:04:19 UTC         Before                 292   \n",
      "14  2023-11-07 22:15:13 UTC         Before                 273   \n",
      "15  2023-11-07 22:10:25 UTC         Before                 259   \n",
      "16  2023-11-07 22:15:15 UTC         Before                 322   \n",
      "17  2023-11-07 22:14:54 UTC         Before                 307   \n",
      "18  2023-11-07 22:10:28 UTC         Before                 269   \n",
      "19  2023-11-07 22:13:12 UTC         Before                 299   \n",
      "20  2023-11-07 22:08:27 UTC         Before                 431   \n",
      "21  2023-11-07 22:14:11 UTC         Before                 323   \n",
      "22  2023-11-07 22:12:50 UTC         Before                 278   \n",
      "23  2023-11-07 22:10:38 UTC         Before                 263   \n",
      "24  2023-11-07 22:15:24 UTC         Before                 438   \n",
      "\n",
      "    reaction_time2(ms)  typing_speed(wpm) quiz_scores  \n",
      "0                  228                 38         Low  \n",
      "1                  300                 52         Low  \n",
      "2                  243                 31         Low  \n",
      "3                  222                 71         Low  \n",
      "4                  250                 55         Low  \n",
      "5                  211                 65         Low  \n",
      "6                  283                 66        High  \n",
      "7                  188                 48        High  \n",
      "8                  219                 54         Low  \n",
      "9                  309                 40         Low  \n",
      "10                 255                 86        High  \n",
      "11                 283                 63        High  \n",
      "12                 238                 69        High  \n",
      "13                 310                 59         Low  \n",
      "14                 263                 72         Low  \n",
      "15                 247                 52         Low  \n",
      "16                 315                 50         Low  \n",
      "17                 281                 91        High  \n",
      "18                 271                 47        High  \n",
      "19                 313                 57        High  \n",
      "20                 308                 65        High  \n",
      "21                 312                 72        High  \n",
      "22                 261                 68        High  \n",
      "23                 283                 80        High  \n",
      "24                 275                 84        High  \n"
     ]
    }
   ],
   "source": [
    "import seaborn as sns\n",
    "import pandas as pd\n",
    "import matplotlib.pyplot as plt\n",
    "import numpy as np\n",
    "import scipy as sp\n",
    "import math\n",
    "\n",
    "df_raw = pd.read_excel(\"port_10.xlsx\", header=None, names=[\"submitted\", \"time_submitted\", \"reaction_time1(ms)\", \"reaction_time2(ms)\", \"typing_speed(wpm)\", \"quiz_scores\"], skiprows=1)\n",
    "\n",
    "print(df_raw)"
   ]
  },
  {
   "cell_type": "code",
   "execution_count": 4,
   "metadata": {
    "collapsed": false,
    "jupyter": {
     "outputs_hidden": false
    }
   },
   "outputs": [
    {
     "name": "stdout",
     "output_type": "stream",
     "text": [
      "   time_submitted  typing_speed(wpm)  reaction_time1(ms)\n",
      "0           After                 38                 246\n",
      "1           After                 52                 355\n",
      "2           After                 31                 254\n",
      "3           After                 71                 253\n",
      "4           After                 55                 307\n",
      "5           After                 65                 217\n",
      "6           After                 66                 274\n",
      "7           After                 48                  74\n",
      "8           After                 54                 246\n",
      "9           After                 40                 349\n",
      "10          After                 86                 236\n",
      "11          After                 63                 285\n",
      "12          After                 69                 292\n"
     ]
    }
   ],
   "source": [
    "submit_after_df = df_raw.loc[df_raw[\"time_submitted\"] == \"After\", [\"time_submitted\", \"typing_speed(wpm)\", \"reaction_time1(ms)\"]]\n",
    "print(submit_after_df)"
   ]
  },
  {
   "cell_type": "code",
   "execution_count": 5,
   "metadata": {
    "collapsed": false,
    "jupyter": {
     "outputs_hidden": false
    }
   },
   "outputs": [
    {
     "name": "stdout",
     "output_type": "stream",
     "text": [
      "   time_submitted  typing_speed(wpm)  reaction_time1(ms)\n",
      "13         Before                 59                 292\n",
      "14         Before                 72                 273\n",
      "15         Before                 52                 259\n",
      "16         Before                 50                 322\n",
      "17         Before                 91                 307\n",
      "18         Before                 47                 269\n",
      "19         Before                 57                 299\n",
      "20         Before                 65                 431\n",
      "21         Before                 72                 323\n",
      "22         Before                 68                 278\n",
      "23         Before                 80                 263\n",
      "24         Before                 84                 438\n"
     ]
    }
   ],
   "source": [
    "submit_before_df = df_raw.loc[df_raw[\"time_submitted\"] == \"Before\", [\"time_submitted\", \"typing_speed(wpm)\", \"reaction_time1(ms)\"]]\n",
    "print(submit_before_df)"
   ]
  },
  {
   "cell_type": "code",
   "execution_count": 6,
   "metadata": {
    "collapsed": false,
    "jupyter": {
     "outputs_hidden": false
    }
   },
   "outputs": [
    {
     "name": "stdout",
     "output_type": "stream",
     "text": [
      "The standard error of the \"After\" sample is 15.292448278773884\n"
     ]
    }
   ],
   "source": [
    "sstdev_after = np.std(submit_after_df['typing_speed(wpm)'], ddof=1)\n",
    "print(f'The standard error of the \"After\" sample is {sstdev_after}')\n",
    "n1=len(submit_after_df)"
   ]
  },
  {
   "cell_type": "code",
   "execution_count": 9,
   "metadata": {
    "collapsed": false,
    "jupyter": {
     "outputs_hidden": false
    }
   },
   "outputs": [
    {
     "name": "stdout",
     "output_type": "stream",
     "text": [
      "The standard error of the \"Before\" sample is 14.022438727938441\n"
     ]
    }
   ],
   "source": [
    "sstdev_before = np.std(submit_before_df['typing_speed(wpm)'], ddof=1)\n",
    "print(f'The standard error of the \"Before\" sample is {sstdev_before}')\n",
    "n2=len(submit_before_df)"
   ]
  },
  {
   "cell_type": "code",
   "execution_count": 10,
   "outputs": [
    {
     "name": "stdout",
     "output_type": "stream",
     "text": [
      "22.999768902976427\n"
     ]
    }
   ],
   "source": [
    "num = (((sstdev_before**2)/12)+((sstdev_after**2)/13))**2\n",
    "denom = ((1/11)*((sstdev_before**2)/12)**2)+((1/12)*((sstdev_after**2)/13)**2)\n",
    "print(num/denom)"
   ],
   "metadata": {
    "collapsed": false
   }
  },
  {
   "cell_type": "code",
   "execution_count": 12,
   "metadata": {
    "collapsed": false,
    "jupyter": {
     "outputs_hidden": false
    }
   },
   "outputs": [
    {
     "name": "stdout",
     "output_type": "stream",
     "text": [
      "2.3978750646569895\n"
     ]
    }
   ],
   "source": [
    "t_value = sp.stats.t.ppf(1-0.025/2, 23)\n",
    "print(t_value)"
   ]
  },
  {
   "cell_type": "code",
   "execution_count": 13,
   "metadata": {
    "collapsed": false,
    "jupyter": {
     "outputs_hidden": false
    }
   },
   "outputs": [
    {
     "name": "stdout",
     "output_type": "stream",
     "text": [
      "14.058765060947428\n"
     ]
    }
   ],
   "source": [
    "margin_of_error = t_value * math.sqrt(((sstdev_after**2)/n1)+((sstdev_before**2)/n2))\n",
    "print(margin_of_error)"
   ]
  },
  {
   "cell_type": "code",
   "execution_count": 14,
   "metadata": {
    "collapsed": false,
    "jupyter": {
     "outputs_hidden": false
    }
   },
   "outputs": [
    {
     "data": {
      "text/plain": "count    25.000000\nmean     61.400000\nstd      15.206906\nmin      31.000000\n25%      52.000000\n50%      63.000000\n75%      71.000000\nmax      91.000000\nName: typing_speed(wpm), dtype: float64"
     },
     "execution_count": 14,
     "metadata": {},
     "output_type": "execute_result"
    }
   ],
   "source": [
    "df_raw[\"typing_speed(wpm)\"].describe()"
   ]
  },
  {
   "cell_type": "code",
   "execution_count": 15,
   "metadata": {
    "collapsed": false,
    "jupyter": {
     "outputs_hidden": false
    }
   },
   "outputs": [
    {
     "name": "stdout",
     "output_type": "stream",
     "text": [
      "   quiz_scores  typing_speed(wpm)\n",
      "6         High                 66\n",
      "7         High                 48\n",
      "10        High                 86\n",
      "11        High                 63\n",
      "12        High                 69\n",
      "17        High                 91\n",
      "18        High                 47\n",
      "19        High                 57\n",
      "20        High                 65\n",
      "21        High                 72\n",
      "22        High                 68\n",
      "23        High                 80\n",
      "24        High                 84\n"
     ]
    }
   ],
   "source": [
    "high_quiz_score = df_raw.loc[df_raw[\"quiz_scores\"] == \"High\", [\"quiz_scores\", \"typing_speed(wpm)\"]]\n",
    "print(high_quiz_score)"
   ]
  },
  {
   "cell_type": "code",
   "execution_count": 16,
   "metadata": {
    "collapsed": false,
    "jupyter": {
     "outputs_hidden": false
    }
   },
   "outputs": [
    {
     "name": "stdout",
     "output_type": "stream",
     "text": [
      "   quiz_scores  typing_speed(wpm)\n",
      "0          Low                 38\n",
      "1          Low                 52\n",
      "2          Low                 31\n",
      "3          Low                 71\n",
      "4          Low                 55\n",
      "5          Low                 65\n",
      "8          Low                 54\n",
      "9          Low                 40\n",
      "13         Low                 59\n",
      "14         Low                 72\n",
      "15         Low                 52\n",
      "16         Low                 50\n"
     ]
    }
   ],
   "source": [
    "low_quiz_score = df_raw.loc[df_raw[\"quiz_scores\"] == \"Low\", [\"quiz_scores\", \"typing_speed(wpm)\"]]\n",
    "print(low_quiz_score)"
   ]
  },
  {
   "cell_type": "code",
   "execution_count": 17,
   "metadata": {
    "collapsed": false,
    "jupyter": {
     "outputs_hidden": false
    }
   },
   "outputs": [
    {
     "data": {
      "text/plain": "<Figure size 300x400 with 1 Axes>",
      "image/png": "[encoded data removed]"
     },
     "metadata": {},
     "output_type": "display_data"
    }
   ],
   "source": [
    "plt.figure(figsize=(3,4))\n",
    "sns.boxplot(x='quiz_scores', y='typing_speed(wpm)', data=df_raw)\n",
    "plt.xlabel('Quiz Scores')\n",
    "plt.ylabel('Typing Speed (wpm)')\n",
    "plt.show()"
   ]
  },
  {
   "cell_type": "code",
   "execution_count": 20,
   "metadata": {
    "collapsed": false,
    "jupyter": {
     "outputs_hidden": false
    }
   },
   "outputs": [
    {
     "name": "stdout",
     "output_type": "stream",
     "text": [
      "TtestResult(statistic=2.972549658348873, pvalue=0.006815126843891094, df=22.99992983500092)\n",
      "0.006815126843891094\n"
     ]
    }
   ],
   "source": [
    "t_stat1, p_value1 = sp.stats.ttest_ind(high_quiz_score['typing_speed(wpm)'], low_quiz_score['typing_speed(wpm)'], equal_var=False)\n",
    "print(sp.stats.ttest_ind(high_quiz_score['typing_speed(wpm)'], low_quiz_score['typing_speed(wpm)'], equal_var=False))\n",
    "print(p_value1)"
   ]
  },
  {
   "cell_type": "code",
   "execution_count": 25,
   "metadata": {
    "collapsed": false,
    "jupyter": {
     "outputs_hidden": false
    }
   },
   "outputs": [
    {
     "name": "stdout",
     "output_type": "stream",
     "text": [
      "TtestResult(statistic=1.6454749671148794, pvalue=0.11347102776652881, df=22.999768902976427)\n",
      "The p-value result for this t-test is 0.11347102776652881\n"
     ]
    }
   ],
   "source": [
    "print(sp.stats.ttest_ind(submit_before_df['typing_speed(wpm)'], submit_after_df['typing_speed(wpm)'], equal_var=False))\n",
    "\n",
    "t_stat2, p_value2 = sp.stats.ttest_ind(submit_before_df['typing_speed(wpm)'], submit_after_df['typing_speed(wpm)'], equal_var=False)\n",
    "\n",
    "print(f\"The p-value result for this t-test is {p_value2}\")"
   ]
  },
  {
   "cell_type": "code",
   "execution_count": 26,
   "metadata": {
    "collapsed": false,
    "jupyter": {
     "outputs_hidden": false
    }
   },
   "outputs": [
    {
     "data": {
      "text/plain": "count     25.000000\nmean     285.680000\nstd       69.548376\nmin       74.000000\n25%      254.000000\n50%      278.000000\n75%      307.000000\nmax      438.000000\nName: reaction_time1(ms), dtype: float64"
     },
     "execution_count": 26,
     "metadata": {},
     "output_type": "execute_result"
    }
   ],
   "source": [
    "df_raw[\"reaction_time1(ms)\"].describe()"
   ]
  },
  {
   "cell_type": "code",
   "execution_count": 27,
   "metadata": {
    "collapsed": false,
    "jupyter": {
     "outputs_hidden": false
    }
   },
   "outputs": [
    {
     "data": {
      "text/plain": "count     25.000000\nmean     266.720000\nstd       36.170338\nmin      188.000000\n25%      243.000000\n50%      271.000000\n75%      300.000000\nmax      315.000000\nName: reaction_time2(ms), dtype: float64"
     },
     "execution_count": 27,
     "metadata": {},
     "output_type": "execute_result"
    }
   ],
   "source": [
    "df_raw[\"reaction_time2(ms)\"].describe()"
   ]
  },
  {
   "cell_type": "code",
   "execution_count": 28,
   "metadata": {
    "collapsed": false,
    "jupyter": {
     "outputs_hidden": false
    }
   },
   "outputs": [
    {
     "data": {
      "text/plain": "Text(0, 0.5, 'reaction time (ms)')"
     },
     "execution_count": 28,
     "metadata": {},
     "output_type": "execute_result"
    },
    {
     "data": {
      "text/plain": "<Figure size 400x400 with 1 Axes>",
      "image/png": "[encoded data removed]"
     },
     "metadata": {},
     "output_type": "display_data"
    }
   ],
   "source": [
    "df_raw.boxplot(column=['reaction_time1(ms)', 'reaction_time2(ms)'],figsize=(4,4))\n",
    "plt.ylabel('reaction time (ms)')"
   ]
  },
  {
   "cell_type": "code",
   "execution_count": 29,
   "metadata": {
    "collapsed": false,
    "jupyter": {
     "outputs_hidden": false
    }
   },
   "outputs": [
    {
     "name": "stdout",
     "output_type": "stream",
     "text": [
      "2.390949315129389\n"
     ]
    }
   ],
   "source": [
    "dfreedom = 25-1\n",
    "t_value2 = sp.stats.t.ppf(1-0.025/2, dfreedom)\n",
    "print(t_value2)"
   ]
  },
  {
   "cell_type": "code",
   "execution_count": 30,
   "metadata": {
    "collapsed": false,
    "jupyter": {
     "outputs_hidden": false
    }
   },
   "outputs": [
    {
     "name": "stdout",
     "output_type": "stream",
     "text": [
      "37.486150967270916\n"
     ]
    }
   ],
   "source": [
    "margin_of_error2 = t_value2 * math.sqrt((((df_raw[\"reaction_time1(ms)\"].describe()['std'])**2)/(df_raw[\"reaction_time1(ms)\"].describe()['count'])) + ((df_raw[\"reaction_time2(ms)\"].describe()['std'])**2)/(df_raw[\"reaction_time2(ms)\"].describe()['count']))\n",
    "print(margin_of_error2)"
   ]
  },
  {
   "cell_type": "code",
   "execution_count": 31,
   "outputs": [
    {
     "name": "stdout",
     "output_type": "stream",
     "text": [
      "The interval estimate for the difference between the two reaction tests is from -18.526 to 56.446\n"
     ]
    }
   ],
   "source": [
    "x1_x2 = abs(df_raw[\"reaction_time1(ms)\"].describe()['mean'] - df_raw[\"reaction_time2(ms)\"].describe()['mean'])\n",
    "\n",
    "print(f'The interval estimate for the difference between the two reaction tests is from {x1_x2 - margin_of_error2:.3f} to {x1_x2 + margin_of_error2:.3f}')"
   ],
   "metadata": {
    "collapsed": false
   }
  },
  {
   "cell_type": "code",
   "execution_count": 32,
   "metadata": {
    "collapsed": false,
    "jupyter": {
     "outputs_hidden": false
    }
   },
   "outputs": [
    {
     "name": "stdout",
     "output_type": "stream",
     "text": [
      "TtestResult(statistic=-1.9989756761387047, pvalue=0.05760010414830939, df=22.92926310134507)\n",
      "0.05760010414830939\n"
     ]
    }
   ],
   "source": [
    "print(sp.stats.ttest_ind(submit_after_df['reaction_time1(ms)'], submit_before_df['reaction_time1(ms)'],\n",
    "                                       equal_var=False))\n",
    "\n",
    "t_stat3, p_value3 = sp.stats.ttest_ind(submit_after_df['reaction_time1(ms)'], submit_before_df['reaction_time1(ms)'],\n",
    "                                       equal_var=False)\n",
    "print(p_value3)"
   ]
  },
  {
   "cell_type": "code",
   "execution_count": 33,
   "metadata": {
    "collapsed": false,
    "jupyter": {
     "outputs_hidden": false
    }
   },
   "outputs": [
    {
     "name": "stdout",
     "output_type": "stream",
     "text": [
      "TtestResult(statistic=1.8740009217701972, pvalue=0.03657781085925922, df=24)\n",
      "0.03657781085925922\n"
     ]
    }
   ],
   "source": [
    "print(sp.stats.ttest_rel(df_raw[\"reaction_time1(ms)\"], df_raw[\"reaction_time2(ms)\"], alternative=\"greater\"))\n",
    "t_stat4, p_value4 = sp.stats.ttest_rel(df_raw[\"reaction_time1(ms)\"], df_raw[\"reaction_time2(ms)\"], alternative=\"greater\")\n",
    "print(p_value4)"
   ]
  },
  {
   "cell_type": "code",
   "execution_count": null,
   "metadata": {
    "collapsed": false,
    "jupyter": {
     "outputs_hidden": false
    }
   },
   "outputs": [],
   "source": []
  }
 ],
 "metadata": {
  "kernelspec": {
   "display_name": "Python 3 (ipykernel)",
   "language": "python",
   "name": "python3"
  },
  "language_info": {
   "codemirror_mode": {
    "name": "ipython",
    "version": 3
   },
   "file_extension": ".py",
   "mimetype": "text/x-python",
   "name": "python",
   "nbconvert_exporter": "python",
   "pygments_lexer": "ipython3",
   "version": "3.11.1"
  }
 },
 "nbformat": 4,
 "nbformat_minor": 4
}
