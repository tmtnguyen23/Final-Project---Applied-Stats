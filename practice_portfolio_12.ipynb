{
 "cells": [
  {
   "cell_type": "code",
   "execution_count": 1,
   "metadata": {
    "collapsed": true
   },
   "outputs": [
    {
     "name": "stdout",
     "output_type": "stream",
     "text": [
      "    student xmas_season winter_attitudes\n",
      "0         1      Before             Love\n",
      "1         2       After             Hate\n",
      "2         3       After              Meh\n",
      "3         4      Before              Meh\n",
      "4         5       After             Hate\n",
      "5         6       After              Meh\n",
      "6         7       After              Meh\n",
      "7         8      Before             Hate\n",
      "8         9       After              Meh\n",
      "9        10       After              Meh\n",
      "10       11       After              Meh\n",
      "11       12       After              Meh\n",
      "12       13       After             Hate\n",
      "13       14       After             Love\n",
      "14       15       After              Meh\n",
      "15       16       After              Meh\n",
      "16       17       After             Love\n",
      "17       18       After             Hate\n",
      "18       19      Before             Love\n",
      "19       20       After             Love\n",
      "20       21       After              Meh\n",
      "21       22       After             Hate\n",
      "22       23       After              Meh\n",
      "23       24       After             Love\n",
      "24       25      Before             Love\n",
      "25       26      Before             Love\n",
      "26       27      Before             Love\n",
      "27       28      Before             Love\n",
      "28       29      Before             Love\n",
      "29       30      Before              Meh\n"
     ]
    }
   ],
   "source": [
    "import seaborn as sns\n",
    "import pandas as pd\n",
    "import matplotlib.pyplot as plt\n",
    "import numpy as np\n",
    "from scipy.stats import *\n",
    "\n",
    "df_raw = pd.read_excel(\"port_12.xlsx\", header=None, names=[\"student\", \"xmas_season\", \"winter_attitudes\"], skiprows=1)\n",
    "\n",
    "print(df_raw)"
   ]
  },
  {
   "cell_type": "code",
   "execution_count": 4,
   "outputs": [
    {
     "name": "stdout",
     "output_type": "stream",
     "text": [
      "Christmas Season  After  Before  Total\n",
      "Winter Attitudes                      \n",
      "Hate                  5       1      6\n",
      "Love                  4       7     11\n",
      "Meh                  11       2     13\n",
      "Total                20      10     30\n"
     ]
    }
   ],
   "source": [
    "pivot_table = pd.crosstab(index=df_raw['winter_attitudes'], columns=df_raw['xmas_season'], rownames=[\"Winter Attitudes\"], colnames=[\"Christmas Season\"], margins=True, margins_name=\"Total\")\n",
    "print(pivot_table)"
   ],
   "metadata": {
    "collapsed": false
   }
  },
  {
   "cell_type": "code",
   "execution_count": 8,
   "outputs": [
    {
     "name": "stdout",
     "output_type": "stream",
     "text": [
      "[[4.         2.        ]\n",
      " [7.33333333 3.66666667]\n",
      " [8.66666667 4.33333333]]\n",
      "Chi-square Statistic: 7.18006993006993\n",
      "P-value: 0.027597365463531087\n"
     ]
    }
   ],
   "source": [
    "# Replace this with your actual observed contingency table\n",
    "observed_table = np.array([[pivot_table.loc['Hate','After'], pivot_table.loc['Hate','Before']],\n",
    "                           [pivot_table.loc['Love','After'], pivot_table.loc['Love','Before']],\n",
    "                           [pivot_table.loc['Meh','After'], pivot_table.loc['Meh','Before']]])\n",
    "\n",
    "# Perform chi-square test of independence\n",
    "chi2_stat, p_value, _, expected_table = chi2_contingency(observed_table)\n",
    "\n",
    "print(expected_table)\n",
    "\n",
    "# Print the results\n",
    "print(f'Chi-square Statistic: {chi2_stat}')\n",
    "print(f'P-value: {p_value}')"
   ],
   "metadata": {
    "collapsed": false
   }
  },
  {
   "cell_type": "code",
   "execution_count": 12,
   "outputs": [
    {
     "name": "stdout",
     "output_type": "stream",
     "text": [
      "p1=portion of students who love winter who think Christmas starts after Thanksgiving=0.364\n",
      "p2=portion of students who are meh about winter who think Christmas starts after Thanksgiving=0.846\n",
      "p3=portion of students who hate winter who think Christmas starts after Thanksgiving=0.833\n"
     ]
    }
   ],
   "source": [
    "#Unfortunately, this procedure is not readily available in Python libraries like scipy or statsmodels. You may need to calculate the standard errors and conduct pairwise comparisons manually or use specialized statistical software that supports the Marascuilo procedure.\n",
    "\n",
    "#portion of students who love winter who think Christmas starts after Thanksgiving\n",
    "p1_bar = pivot_table.loc['Love','After']/pivot_table.loc['Love','Total']\n",
    "print(f'p1=portion of students who love winter who think Christmas starts after Thanksgiving={p1_bar:.3f}')\n",
    "\n",
    "#portion of students who are meh about winter who think Christmas starts after Thanksgiving\n",
    "p2_bar = pivot_table.loc['Meh','After']/pivot_table.loc['Meh','Total']\n",
    "print(f'p2=portion of students who are meh about winter who think Christmas starts after Thanksgiving={p2_bar:.3f}')\n",
    "\n",
    "p3_bar = pivot_table.loc['Hate','After']/pivot_table.loc['Hate','Total']\n",
    "print(f'p3=portion of students who hate winter who think Christmas starts after Thanksgiving={p3_bar:.3f}')\n"
   ],
   "metadata": {
    "collapsed": false
   }
  },
  {
   "cell_type": "code",
   "execution_count": 25,
   "outputs": [
    {
     "name": "stdout",
     "output_type": "stream",
     "text": [
      "the critical chi2 value is 5.991464547107979\n"
     ]
    }
   ],
   "source": [
    "k = 3\n",
    "df = 2\n",
    "\n",
    "p1_vs_p2 = abs(p1_bar-p2_bar)\n",
    "p1_vs_p3 = abs(p1_bar-p3_bar)\n",
    "p2_vs_p3 = abs(p2_bar-p3_bar)\n",
    "\n",
    "chi2_value = chi2.ppf(1 - 0.05, df)\n",
    "print(f'the critical chi2 value is {chi2_value}')"
   ],
   "metadata": {
    "collapsed": false
   }
  },
  {
   "cell_type": "code",
   "execution_count": 28,
   "outputs": [
    {
     "name": "stdout",
     "output_type": "stream",
     "text": [
      "The difference between pair 1 is significant\n",
      "The difference between pair 2 is not significant\n",
      "The difference between pair 3 is not significant\n"
     ]
    }
   ],
   "source": [
    "from math import sqrt\n",
    "\n",
    "critical_value_12 = sqrt(chi2_value)*sqrt(((p1_bar*(1-p1_bar))/pivot_table.loc['Love','Total']) + ((p2_bar*(1-p2_bar))/pivot_table.loc['Meh','Total']))\n",
    "\n",
    "critical_value_13 = sqrt(chi2_value)*sqrt(((p1_bar*(1-p1_bar))/pivot_table.loc['Love','Total']) + ((p3_bar*(1-p3_bar))/pivot_table.loc['Hate','Total']))\n",
    "\n",
    "critical_value_23 = sqrt(chi2_value)*sqrt(((p2_bar*(1-p2_bar))/pivot_table.loc['Meh','Total']) + ((p3_bar*(1-p3_bar))/pivot_table.loc['Hate','Total']))\n",
    "\n",
    "p_i_minus_p_j = [p1_vs_p2, p1_vs_p3, p2_vs_p3]\n",
    "critical_values = [critical_value_12, critical_value_13, critical_value_23]\n",
    "\n",
    "for i in range(3):\n",
    "    if p_i_minus_p_j[i] < critical_values[i]:\n",
    "        print(f\"The difference between pair {i+1} is not significant\")\n",
    "    else:\n",
    "        print(f\"The difference between pair {i+1} is significant\")"
   ],
   "metadata": {
    "collapsed": false
   }
  },
  {
   "cell_type": "code",
   "execution_count": null,
   "outputs": [],
   "source": [
    "# Write a report afterwards"
   ],
   "metadata": {
    "collapsed": false
   }
  }
 ],
 "metadata": {
  "kernelspec": {
   "display_name": "Python 3",
   "language": "python",
   "name": "python3"
  },
  "language_info": {
   "codemirror_mode": {
    "name": "ipython",
    "version": 2
   },
   "file_extension": ".py",
   "mimetype": "text/x-python",
   "name": "python",
   "nbconvert_exporter": "python",
   "pygments_lexer": "ipython2",
   "version": "2.7.6"
  }
 },
 "nbformat": 4,
 "nbformat_minor": 0
}
