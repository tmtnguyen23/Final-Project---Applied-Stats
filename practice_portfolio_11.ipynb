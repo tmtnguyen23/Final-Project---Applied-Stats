{
 "cells": [
  {
   "cell_type": "code",
   "execution_count": 3,
   "metadata": {
    "collapsed": true
   },
   "outputs": [],
   "source": [
    "import seaborn as sns\n",
    "import pandas as pd\n",
    "import matplotlib.pyplot as plt\n",
    "import numpy as np\n",
    "from scipy.stats import *\n",
    "\n",
    "df_total = pd.read_excel(\"port_11.xlsx\")\n",
    "\n",
    "#df_raw1 extracts columns B-F from the data sheet\n",
    "df_raw1 = df_total[[\"Time_submitted\", \"Reaction time_1 (ms)\", \"Reaction time_2 (ms)\", \"Typing Speed (wpm)\", \"Quiz scores \"]]\n",
    "\n",
    "#df_raw2 extracts the other part of the data sheet\n",
    "df_raw2 = df_total[[\"Reaction time_1_Submitted Before (ms)\", \"Reaction time_1_Submitted After (ms)\", \"Reaction time_2_Submitted Before (ms)\", \"Reaction time_2_Submitted After (ms)\", \"Typing Speed_High Quiz Scores (wpm)\", \"Typing Speed_Low Quiz Scores (wpm)\"]]"
   ]
  },
  {
   "cell_type": "code",
   "execution_count": 2,
   "outputs": [
    {
     "name": "stdout",
     "output_type": "stream",
     "text": [
      "Chi square (0.025, 23) is 12.401150217444439\n",
      "Chi square (0.975, 23) is 39.36407702660391\n",
      "Lower limit of the interval estimate is 54.30534543400699\n",
      "Upper limit of the interval estimate is 96.7523746433592\n"
     ]
    }
   ],
   "source": [
    "# Calculate sample size and sample standard deviation\n",
    "n = len(df_raw1[\"Reaction time_1 (ms)\"])\n",
    "sample_std = np.std(df_raw1[\"Reaction time_1 (ms)\"], ddof=1)\n",
    "\n",
    "# Calculate chi-square critical values\n",
    "alpha = 1 - 0.95\n",
    "chi2_lower = chi2.ppf(alpha / 2, df=n - 1)\n",
    "print(f'Chi square (0.025, 23) is {chi2_lower}')\n",
    "chi2_upper = chi2.ppf(1 - alpha / 2, df=n - 1)\n",
    "print(f'Chi square (0.975, 23) is {chi2_upper}')\n",
    "\n",
    "# Calculate the confidence interval\n",
    "interval_lower = np.sqrt((n - 1) * sample_std**2 / chi2_upper)\n",
    "print(f'Lower limit of the interval estimate is {interval_lower}')\n",
    "interval_upper = np.sqrt((n - 1) * sample_std**2 / chi2_lower)\n",
    "print(f'Upper limit of the interval estimate is {interval_upper}')"
   ],
   "metadata": {
    "collapsed": false
   }
  },
  {
   "cell_type": "code",
   "execution_count": 9,
   "outputs": [
    {
     "name": "stdout",
     "output_type": "stream",
     "text": [
      "0     292.0\n",
      "1     273.0\n",
      "2     259.0\n",
      "3     322.0\n",
      "4     307.0\n",
      "5     269.0\n",
      "6     299.0\n",
      "7     431.0\n",
      "8     323.0\n",
      "9     278.0\n",
      "10    263.0\n",
      "11    438.0\n",
      "Name: Reaction time_1_Submitted Before (ms), dtype: float64\n"
     ]
    }
   ],
   "source": [
    "before_deadline_data = df_raw2[\"Reaction time_1_Submitted Before (ms)\"].drop(labels=range(12,25))\n",
    "after_deadline_data = df_raw2[\"Reaction time_1_Submitted After (ms)\"].drop(labels=range(13,25))\n",
    "\n",
    "print(before_deadline_data)"
   ],
   "metadata": {
    "collapsed": false
   }
  },
  {
   "cell_type": "code",
   "execution_count": 11,
   "outputs": [
    {
     "name": "stdout",
     "output_type": "stream",
     "text": [
      "The F-stats is 0.7568199452209394\n"
     ]
    }
   ],
   "source": [
    "variance1 = np.var(before_deadline_data, ddof=1)\n",
    "variance2 = np.var(after_deadline_data, ddof=1)\n",
    "\n",
    "f_value = variance1 / variance2\n",
    "print(f\"The F-stats is {f_value}\")"
   ],
   "metadata": {
    "collapsed": false
   }
  },
  {
   "cell_type": "code",
   "execution_count": 12,
   "outputs": [
    {
     "name": "stdout",
     "output_type": "stream",
     "text": [
      "p-value: 0.3257958251191016\n"
     ]
    }
   ],
   "source": [
    "df_num = len(before_deadline_data) - 1\n",
    "df_den = len(after_deadline_data) - 1\n",
    "\n",
    "# Perform F-test\n",
    "p_value = f.cdf(f_value, df_num, df_den)\n",
    "\n",
    "# Set the significance level (alpha)\n",
    "alpha = 0.10\n",
    "\n",
    "# Print the results\n",
    "print(f'p-value: {p_value}')"
   ],
   "metadata": {
    "collapsed": false
   }
  },
  {
   "cell_type": "code",
   "execution_count": 7,
   "outputs": [
    {
     "data": {
      "text/plain": "<Figure size 500x500 with 1 Axes>",
      "image/png": "[encoded data removed]"
     },
     "metadata": {},
     "output_type": "display_data"
    }
   ],
   "source": [
    "# Create a Box and Whisker plot to visually compare the spread of the two populations.\n",
    "plt.figure(figsize=(5,5))\n",
    "sns.boxplot(x='Time_submitted', y='Reaction time_1 (ms)', data=df_raw1)\n",
    "plt.ylabel('Reaction Time 1 (ms)')\n",
    "plt.show()"
   ],
   "metadata": {
    "collapsed": false
   }
  },
  {
   "cell_type": "code",
   "execution_count": 15,
   "outputs": [
    {
     "name": "stdout",
     "output_type": "stream",
     "text": [
      "The F-stat for this hypothesis test is 0.4351373978609936\n"
     ]
    }
   ],
   "source": [
    "variance1 = np.var(df_raw2[\"Reaction time_2_Submitted Before (ms)\"], ddof=1)\n",
    "variance2 = np.var(df_raw2[\"Reaction time_2_Submitted After (ms)\"], ddof=1)\n",
    "\n",
    "f_value = variance1 / variance2\n",
    "print(f\"The F-stat for this hypothesis test is {f_value}\")"
   ],
   "metadata": {
    "collapsed": false
   }
  },
  {
   "cell_type": "code",
   "execution_count": 16,
   "outputs": [
    {
     "name": "stdout",
     "output_type": "stream",
     "text": [
      "The p-value for this hypothesis test is 0.08945160984984463\n"
     ]
    }
   ],
   "source": [
    "df_num = len(before_deadline_data) - 1\n",
    "df_den = len(after_deadline_data) - 1\n",
    "\n",
    "# Perform F-test\n",
    "p_value = f.cdf(f_value, df_num, df_den)\n",
    "\n",
    "# Set the significance level (alpha)\n",
    "alpha = 0.10\n",
    "\n",
    "# Print the results\n",
    "print(f'The p-value for this hypothesis test is {p_value}')"
   ],
   "metadata": {
    "collapsed": false
   }
  },
  {
   "cell_type": "code",
   "execution_count": 17,
   "outputs": [
    {
     "data": {
      "text/plain": "<Figure size 500x500 with 1 Axes>",
      "image/png": "[encoded data removed]"
     },
     "metadata": {},
     "output_type": "display_data"
    }
   ],
   "source": [
    "plt.figure(figsize=(5,5))\n",
    "sns.boxplot(x='Time_submitted', y='Reaction time_2 (ms)', data=df_raw1)\n",
    "plt.ylabel('Reaction Time 2 (ms)')\n",
    "plt.show()"
   ],
   "metadata": {
    "collapsed": false
   }
  },
  {
   "cell_type": "code",
   "execution_count": 21,
   "outputs": [
    {
     "name": "stdout",
     "output_type": "stream",
     "text": [
      "The F-stat of this hypothesis test is 0.8491174085058169\n"
     ]
    }
   ],
   "source": [
    "# The variance Typing Speed for those who received high scores on the quiz is the same as to the variance in Typing Speed for those who received low quiz scores.\n",
    "\n",
    "variance1 = np.var(df_raw2[\"Typing Speed_Low Quiz Scores (wpm)\"], ddof=1)\n",
    "variance2 = np.var(df_raw2[\"Typing Speed_High Quiz Scores (wpm)\"], ddof=1)\n",
    "\n",
    "f_value = variance1 / variance2\n",
    "print(f\"The F-stat of this hypothesis test is {f_value}\")"
   ],
   "metadata": {
    "collapsed": false
   }
  },
  {
   "cell_type": "code",
   "execution_count": 22,
   "outputs": [
    {
     "name": "stdout",
     "output_type": "stream",
     "text": [
      "The p-value of this hypothesis test is: 0.7933296666008638\n"
     ]
    }
   ],
   "source": [
    "df_num = len(before_deadline_data) - 1\n",
    "df_den = len(after_deadline_data) - 1\n",
    "\n",
    "# Since this is a two-tailed test, we need to double the p-value\n",
    "p_value = f.cdf(f_value, df_num, df_den) * 2\n",
    "\n",
    "# Set the significance level (alpha)\n",
    "alpha = 0.10\n",
    "\n",
    "# Print the results\n",
    "print(f'The p-value of this hypothesis test is: {p_value}')\n"
   ],
   "metadata": {
    "collapsed": false
   }
  },
  {
   "cell_type": "code",
   "execution_count": 18,
   "outputs": [
    {
     "data": {
      "text/plain": "<Figure size 500x500 with 1 Axes>",
      "image/png": "[encoded data removed]"
     },
     "metadata": {},
     "output_type": "display_data"
    }
   ],
   "source": [
    "plt.figure(figsize=(5,5))\n",
    "sns.boxplot(x='Quiz scores ', y='Typing Speed (wpm)', data=df_raw1)\n",
    "plt.ylabel('Typing Speed (wpm)')\n",
    "plt.show()"
   ],
   "metadata": {
    "collapsed": false
   }
  },
  {
   "cell_type": "code",
   "execution_count": null,
   "outputs": [],
   "source": [],
   "metadata": {
    "collapsed": false
   }
  }
 ],
 "metadata": {
  "kernelspec": {
   "display_name": "Python 3",
   "language": "python",
   "name": "python3"
  },
  "language_info": {
   "codemirror_mode": {
    "name": "ipython",
    "version": 2
   },
   "file_extension": ".py",
   "mimetype": "text/x-python",
   "name": "python",
   "nbconvert_exporter": "python",
   "pygments_lexer": "ipython2",
   "version": "2.7.6"
  }
 },
 "nbformat": 4,
 "nbformat_minor": 0
}
